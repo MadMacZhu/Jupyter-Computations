{
 "cells": [
  {
   "cell_type": "code",
   "execution_count": 26,
   "metadata": {},
   "outputs": [
    {
     "name": "stdout",
     "output_type": "stream",
     "text": [
      "4.5.1-dev\n"
     ]
    }
   ],
   "source": [
    "import cv2\n",
    "import numpy as np\n",
    "from matplotlib import pyplot as plt\n",
    "\n",
    "print(cv2.__version__)"
   ]
  },
  {
   "cell_type": "code",
   "execution_count": 27,
   "metadata": {},
   "outputs": [],
   "source": [
    "ANGLE_LOW = np.rad2deg(np.arctan(0.3))"
   ]
  },
  {
   "cell_type": "code",
   "execution_count": 28,
   "metadata": {},
   "outputs": [],
   "source": [
    "ANGLE_HIGH = ANGLE_LOW + 44.0"
   ]
  },
  {
   "cell_type": "code",
   "execution_count": 29,
   "metadata": {},
   "outputs": [],
   "source": [
    "ANGLE_DEPRESSION = 90.0 - (ANGLE_LOW + 22.0)"
   ]
  },
  {
   "cell_type": "code",
   "execution_count": 30,
   "metadata": {},
   "outputs": [
    {
     "name": "stdout",
     "output_type": "stream",
     "text": [
      "Angle of depression = 51.300755766006375\n"
     ]
    }
   ],
   "source": [
    "print(\"Angle of depression = {}\".format(ANGLE_DEPRESSION))"
   ]
  },
  {
   "cell_type": "code",
   "execution_count": 51,
   "metadata": {},
   "outputs": [
    {
     "ename": "SyntaxError",
     "evalue": "invalid syntax (<ipython-input-51-2572ff8f07cd>, line 6)",
     "output_type": "error",
     "traceback": [
      "\u001b[0;36m  File \u001b[0;32m\"<ipython-input-51-2572ff8f07cd>\"\u001b[0;36m, line \u001b[0;32m6\u001b[0m\n\u001b[0;31m    h = install_height + height - np.tan(np.deg2rad(90.0 - angle_high)) * (200.0 + height/np.tan(np.deg2rad(alpha)))\u001b[0m\n\u001b[0m    ^\u001b[0m\n\u001b[0;31mSyntaxError\u001b[0m\u001b[0;31m:\u001b[0m invalid syntax\n"
     ]
    }
   ],
   "source": [
    "## alpha: Angle of elevation of the slope; height: Vertical height of the slope \n",
    "def Camera_Range(alpha, height, angle_low = ANGLE_LOW, angle_high = ANGLE_HIGH, install_height = 287.0):\n",
    "    y1 = np.tan(np.deg2rad(angle_low)) * install_height\n",
    "    y2 = np.tan(np.deg2rad(angle_high)) * (install_height + height)\n",
    "    x1 = np.tan(np.deg2rad(41.0)) * install_height/ np.cos(np.deg2rad(angle_low) * 2.0\n",
    "    h = install_height + height - np.tan(np.deg2rad(90.0 - angle_high)) * (200.0 + height/np.tan(np.deg2rad(alpha)))\n",
    "    print(\"近端距离：{}米，近端宽度：{}米。\".format(y1 / 100.0, x1 / 100.0))\n",
    "    print(\"远端距离：{}米，远端宽度：{}米。\".format(y2 / 100.0, x2 / 100.0))\n",
    "    print(\"拍摄到卡车的最高点为{}米\".format(h / 100.0))    "
   ]
  },
  {
   "cell_type": "code",
   "execution_count": 8,
   "metadata": {},
   "outputs": [
    {
     "name": "stdout",
     "output_type": "stream",
     "text": [
      "近端距离：0.861米，近端宽度：5.209405872499181米。\n",
      "远端距离：8.677969716235863米，远端宽度：17.300689440085716米。\n",
      "拍摄到卡车的最高点为1.8035944079252624米\n"
     ]
    }
   ],
   "source": [
    "Camera_Range(30.0, 200.0)"
   ]
  },
  {
   "cell_type": "code",
   "execution_count": 32,
   "metadata": {},
   "outputs": [],
   "source": [
    "def Vertical_Camera(alpha, height, install_height = 287.0):\n",
    "    depression_angle = 90.0 - np.rad2deg(np.arctan((200.0 + height/np.tan(np.deg2rad(alpha)))/(install_height + height)))\n",
    "    print(\"中线俯视角为{}度。\".format(depression_angle))\n",
    "    y = 600.0 + height / np.tan(np.deg2rad(alpha))\n",
    "    high_angle = np.rad2deg(np.arctan(y/(install_height + height)))\n",
    "    print(\"上端俯视角为{}度。\".format(high_angle))\n",
    "    x = np.tan(np.deg2rad(22.0)) * (install_height + height) / np.cos(high_angle) * 2.0\n",
    "    print(\"五米远处横向宽度为{}米\".format(x / 100.0))"
   ]
  },
  {
   "cell_type": "code",
   "execution_count": 10,
   "metadata": {},
   "outputs": [
    {
     "name": "stdout",
     "output_type": "stream",
     "text": [
      "中线俯视角为46.03959304263196度。\n",
      "上端俯视角为63.411391733989575度。\n",
      "五米远处横向宽度为3.7374273783231176米\n"
     ]
    }
   ],
   "source": [
    "Vertical_Camera(30.0, 100.0)"
   ]
  },
  {
   "cell_type": "code",
   "execution_count": 48,
   "metadata": {},
   "outputs": [],
   "source": [
    "def Vertical_Camera_Tangential(alpha, height, install_height = 287.0):\n",
    "    depression_angle = 90.0 - (ANGLE_LOW + 41.0)\n",
    "    print(\"中线俯视角为{}度。\".format(depression_angle))\n",
    "    high_angle = depression_angle - 41.0\n",
    "    print(\"上端俯视角为{}度。\".format(high_angle))\n",
    "    y = 500.0 + height / np.tan(np.deg2rad(alpha))\n",
    "    x1 = np.tan(np.deg2rad(22.0)) * y/np.cos(np.deg2rad(high_angle)) * 2.0\n",
    "    x2 = np.tan(np.deg2rad(22.0)) * install_height / np.cos(np.deg2rad(ANGLE_LOW)) * 2.0\n",
    "    h = install_height + height - np.tan(np.deg2rad(high_angle)) * y\n",
    "    print(\"近端可视宽度为{}米\".format(x2 / 100.0))\n",
    "    print(\"车厢所在位置所能看到高度为度为{}米，宽度为{}米\".format(h / 100.0, x1/100.0))"
   ]
  },
  {
   "cell_type": "code",
   "execution_count": 49,
   "metadata": {},
   "outputs": [
    {
     "name": "stdout",
     "output_type": "stream",
     "text": [
      "中线俯视角为32.300755766006375度。\n",
      "上端俯视角为-8.699244233993625度。\n",
      "近端可视宽度为2.4212224826951196米\n",
      "车厢所在位置所能看到高度为度为6.165075289871704米，宽度为6.9190354620851米\n"
     ]
    }
   ],
   "source": [
    "Vertical_Camera_Tangential(30.0, 200.0)"
   ]
  },
  {
   "cell_type": "code",
   "execution_count": null,
   "metadata": {},
   "outputs": [],
   "source": []
  }
 ],
 "metadata": {
  "kernelspec": {
   "display_name": "Python 3",
   "language": "python",
   "name": "python3"
  },
  "language_info": {
   "codemirror_mode": {
    "name": "ipython",
    "version": 3
   },
   "file_extension": ".py",
   "mimetype": "text/x-python",
   "name": "python",
   "nbconvert_exporter": "python",
   "pygments_lexer": "ipython3",
   "version": "3.8.5"
  }
 },
 "nbformat": 4,
 "nbformat_minor": 4
}
